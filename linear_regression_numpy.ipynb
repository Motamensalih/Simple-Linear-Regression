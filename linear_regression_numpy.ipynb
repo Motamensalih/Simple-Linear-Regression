{
  "nbformat": 4,
  "nbformat_minor": 0,
  "metadata": {
    "colab": {
      "name": "linear_regression_numpy.ipynb",
      "provenance": [],
      "collapsed_sections": []
    },
    "kernelspec": {
      "name": "python3",
      "display_name": "Python 3"
    },
    "language_info": {
      "name": "python"
    }
  },
  "cells": [
    {
      "cell_type": "markdown",
      "metadata": {
        "id": "nlJET8pYG086"
      },
      "source": [
        "# **Import Modules**"
      ]
    },
    {
      "cell_type": "code",
      "metadata": {
        "id": "nSbVnNm3EZft"
      },
      "source": [
        "import numpy as np\n",
        "# Import the module matplotlib for visualizing the data\n",
        "import matplotlib.pyplot as plt"
      ],
      "execution_count": 1,
      "outputs": []
    },
    {
      "cell_type": "markdown",
      "metadata": {
        "id": "unKnemvAG9ZK"
      },
      "source": [
        "# **Input Generation**"
      ]
    },
    {
      "cell_type": "code",
      "metadata": {
        "colab": {
          "base_uri": "https://localhost:8080/"
        },
        "id": "MZubtIQGHADe",
        "outputId": "c8a68c9f-09f8-4e4e-e502-090e51e4ef09"
      },
      "source": [
        "# We use this line to make the code reproducible (to get the same results when running)\n",
        "np.random.seed(42)\n",
        "# First, we should declare a variable containing the size of the training set we want to generate\n",
        "observations = 1000\n",
        "\n",
        "# Let us assume we have the following relationship\n",
        "# y = 13x + 2\n",
        "# y is the output and x is the input or feature\n",
        "# We generate the feature randomly, drawing from an uniform distribution. There are 3 arguments of this method (low, high, size).\n",
        "# The size of x is observations by 1. In this case: 1000 x 1.\n",
        "x = np.random.uniform(low=-10, high=10, size=(observations,1))\n",
        "\n",
        "# Let us print the shape of the feature vector\n",
        "print (x.shape)"
      ],
      "execution_count": 23,
      "outputs": [
        {
          "output_type": "stream",
          "name": "stdout",
          "text": [
            "(1000, 1)\n"
          ]
        }
      ]
    },
    {
      "cell_type": "markdown",
      "metadata": {
        "id": "t9Fps9stInqi"
      },
      "source": [
        "# **Target Generation**"
      ]
    },
    {
      "cell_type": "code",
      "metadata": {
        "colab": {
          "base_uri": "https://localhost:8080/"
        },
        "id": "kMjj4WoWIumg",
        "outputId": "6ad9e264-2ff3-4923-9b22-c13708755996"
      },
      "source": [
        "np.random.seed(42)\n",
        "# We add a small noise to our function for more randomness\n",
        "noise = np.random.uniform(-1, 1, (observations,1))\n",
        "\n",
        "# Produce the targets according to the f(x) = 13x + 2 + noise definition.\n",
        "# This is a simple linear relationship with one weight and bias.\n",
        "# In this way, we are basically saying: the weight is 13 and the bias is 2.\n",
        "targets = 13*x + + 2 + noise\n",
        "\n",
        "# Check the shape of the targets just in case. It should be n x m, where n is the number of samples\n",
        "# and m is the number of output variables, so 1000 x 1.\n",
        "print (targets.shape)"
      ],
      "execution_count": 24,
      "outputs": [
        {
          "output_type": "stream",
          "name": "stdout",
          "text": [
            "(1000, 1)\n"
          ]
        }
      ]
    },
    {
      "cell_type": "markdown",
      "metadata": {
        "id": "4EHdeY1TLc9z"
      },
      "source": [
        "# **Plotting the Data**"
      ]
    },
    {
      "cell_type": "code",
      "metadata": {
        "colab": {
          "base_uri": "https://localhost:8080/",
          "height": 295
        },
        "id": "qoWkKdPPLVAB",
        "outputId": "b1993a46-8300-407d-e663-3aaa214867b2"
      },
      "source": [
        "# Plot x and targets\n",
        "plt.plot(x,targets)\n",
        "\n",
        "# Add labels to x axis and y axis\n",
        "plt.ylabel('Targets')\n",
        "plt.xlabel('Input')\n",
        "\n",
        "# Add title to the graph\n",
        "plt.title('Data')\n",
        "\n",
        "# Show the plot\n",
        "plt.show()"
      ],
      "execution_count": 27,
      "outputs": [
        {
          "output_type": "display_data",
          "data": {
            "image/png": "[encoded data removed]",
            "text/plain": [
              "<Figure size 432x288 with 1 Axes>"
            ]
          },
          "metadata": {
            "needs_background": "light"
          }
        }
      ]
    },
    {
      "cell_type": "markdown",
      "metadata": {
        "id": "cnzwbfNINZTq"
      },
      "source": [
        "# **Initialize the Variables**"
      ]
    },
    {
      "cell_type": "code",
      "metadata": {
        "colab": {
          "base_uri": "https://localhost:8080/"
        },
        "id": "7q3KKlzuNEpy",
        "outputId": "b2624560-d508-4d6a-9475-dda7cd591290"
      },
      "source": [
        "np.random.seed(42)\n",
        "# We will initialize the weights and biases randomly within a small initial range.\n",
        "# init_range is the variable that will measure that.\n",
        "init_range = 0.1\n",
        "\n",
        "# Weights are of size k x m, where k is the number of input variables and m is the number of output variables\n",
        "# In our case, the weights matrix is 1 x 1, since there is only one input (x) and one output (y)\n",
        "weights = np.random.uniform(low=-init_range, high=init_range, size=(1, 1))\n",
        "\n",
        "# Biases are of size 1 since there is only 1 output. The bias is a scalar.\n",
        "biases = np.random.uniform(low=-init_range, high=init_range, size=1)\n",
        "\n",
        "# Print the weights to get a sense of how they were initialized.\n",
        "# You can see that they are far from the actual values.\n",
        "print (weights)\n",
        "print (biases)\n"
      ],
      "execution_count": 50,
      "outputs": [
        {
          "output_type": "stream",
          "name": "stdout",
          "text": [
            "[[-0.02509198]]\n",
            "[0.09014286]\n"
          ]
        }
      ]
    },
    {
      "cell_type": "markdown",
      "metadata": {
        "id": "nqc8HZTSO1Jk"
      },
      "source": [
        "# **Learning Rate**"
      ]
    },
    {
      "cell_type": "code",
      "metadata": {
        "id": "0m_Eils_O5d2"
      },
      "source": [
        "# Set some small learning rate \n",
        "# 0.02 is going to work quite well for our example. Once again, you can play around with it.\n",
        "# It is HIGHLY recommended that you play around with it.\n",
        "learning_rate = 0.02"
      ],
      "execution_count": 45,
      "outputs": []
    },
    {
      "cell_type": "markdown",
      "metadata": {
        "id": "Ee9OVNmsO_JO"
      },
      "source": [
        "# **Training the Model**"
      ]
    },
    {
      "cell_type": "code",
      "metadata": {
        "colab": {
          "base_uri": "https://localhost:8080/"
        },
        "id": "GXIdh9bxO-3Z",
        "outputId": "9b58b54a-5068-4080-9641-8905bc776799"
      },
      "source": [
        "# We iterate over our training dataset 100 times. That works well with a learning rate of 0.02.\n",
        "# We call these iteration epochs.\n",
        "# Let us define a variable to store the loss of each epoch.\n",
        "losses = []\n",
        "for i in range (100):\n",
        "    \n",
        "    # This is the linear model: y = xw + b equation\n",
        "    outputs = np.dot(x,weights) + biases\n",
        "    # The deltas are the differences between the outputs and the targets\n",
        "    # Note that deltas here is a vector 1000 x 1\n",
        "    deltas = outputs - targets\n",
        "        \n",
        "    # We are considering the L2-norm loss as our loss function (regression problem), but divided by 2.\n",
        "    # Moreover, we further divide it by the number of observations to take the mean of the L2-norm.\n",
        "    loss = np.sum(deltas ** 2) / 2 / observations\n",
        "    \n",
        "    # We print the loss function value at each step so we can observe whether it is decreasing as desired.\n",
        "    print (loss)\n",
        "\n",
        "    # Add the loss to the list \n",
        "    losses.append(loss)\n",
        "    \n",
        "    # Another small trick is to scale the deltas the same way as the loss function\n",
        "    # In this way our learning rate is independent of the number of samples (observations).\n",
        "    # Again, this doesn't change anything in principle, it simply makes it easier to pick a single learning rate\n",
        "    # that can remain the same if we change the number of training samples (observations).\n",
        "    deltas_scaled = deltas / observations\n",
        "    \n",
        "    # Finally, we must apply the gradient descent update rules.\n",
        "    # The weights are 1 x 1, learning rate is 1 x 1 (scalar), inputs are 1000 x 1, and deltas_scaled are 1000 x 1\n",
        "    # We must transpose the inputs so that we get an allowed operation.\n",
        "    weights = weights - learning_rate * np.dot(x.T,deltas_scaled)\n",
        "    biases = biases - learning_rate * np.sum(deltas_scaled)\n",
        "    \n",
        "    # The weights are updated in a linear algebraic way (a matrix minus another matrix)\n",
        "    # The biases, however, are just a single number here, so we must transform the deltas into a scalar.\n",
        "    # The two lines are both consistent with the gradient descent methodology. "
      ],
      "execution_count": 51,
      "outputs": [
        {
          "output_type": "stream",
          "name": "stdout",
          "text": [
            "2937.686334634683\n",
            "297.1734834172693\n",
            "31.518688397368752\n",
            "4.734218985229286\n",
            "1.9783223093180873\n",
            "1.641711557185489\n",
            "1.550787380372893\n",
            "1.4868321190390916\n",
            "1.4277574534958986\n",
            "1.371255943274898\n",
            "1.3170131378827319\n",
            "1.2649183033992064\n",
            "1.2148843251394255\n",
            "1.1668294693565606\n",
            "1.1206754299260338\n",
            "1.0763470177056675\n",
            "1.0337720196352673\n",
            "0.9928810792464748\n",
            "0.9536075834918705\n",
            "0.9158875542107949\n",
            "0.8796595439043947\n",
            "0.8448645356349014\n",
            "0.8114458468845471\n",
            "0.7793490372173947\n",
            "0.7485218195935813\n",
            "0.7189139751915845\n",
            "0.6904772715996269\n",
            "0.6631653842431028\n",
            "0.6369338209199076\n",
            "0.6117398493207843\n",
            "0.5875424274166007\n",
            "0.5643021365992024\n",
            "0.5419811174668342\n",
            "0.5205430081495976\n",
            "0.4999528850744855\n",
            "0.48017720607336134\n",
            "0.4611837557414462\n",
            "0.4429415929570204\n",
            "0.4254210004770755\n",
            "0.40859343652669416\n",
            "0.39243148830328484\n",
            "0.37690882732001924\n",
            "0.36200016651559713\n",
            "0.34768121906058436\n",
            "0.33392865879315775\n",
            "0.3207200822198217\n",
            "0.3080339720191605\n",
            "0.2958496619892635\n",
            "0.2841473033815734\n",
            "0.27290783256650036\n",
            "0.2621129399779256\n",
            "0.25174504028619665\n",
            "0.24178724375086466\n",
            "0.23222332870661258\n",
            "0.22303771513746806\n",
            "0.2142154392963261\n",
            "0.205742129328373\n",
            "0.19760398185874176\n",
            "0.1897877395062266\n",
            "0.182280669286469\n",
            "0.1750705418693999\n",
            "0.16814561165713635\n",
            "0.1614945976499227\n",
            "0.1551066650689049\n",
            "0.1489714077058453\n",
            "0.14307883097094531\n",
            "0.1374193356112666\n",
            "0.13198370207313853\n",
            "0.1267630754831187\n",
            "0.12174895122303858\n",
            "0.11693316107563198\n",
            "0.11230785991815663\n",
            "0.10786551294237275\n",
            "0.10359888338002676\n",
            "0.09950102071384234\n",
            "0.09556524935485315\n",
            "0.09178515776757802\n",
            "0.08815458802537542\n",
            "0.08466762577891136\n",
            "0.08131859062144664\n",
            "0.07810202683521252\n",
            "0.0750126945038266\n",
            "0.07204556097624486\n",
            "0.06919579266835876\n",
            "0.06645874718889573\n",
            "0.06382996577676656\n",
            "0.06130516603755553\n",
            "0.05888023496732315\n",
            "0.05655122225235492\n",
            "0.054314333833924\n",
            "0.052165925727630506\n",
            "0.05010249808717947\n",
            "0.04812068950300001\n",
            "0.0462172715263586\n",
            "0.04438914341009436\n",
            "0.04263332705735521\n",
            "0.04094696217017021\n",
            "0.03932730158989841\n",
            "0.03777170682199261\n",
            "0.03627764373777711\n"
          ]
        }
      ]
    },
    {
      "cell_type": "markdown",
      "metadata": {
        "id": "zgK37kRcSlbs"
      },
      "source": [
        "# **Visualizing the Training Loss**"
      ]
    },
    {
      "cell_type": "code",
      "metadata": {
        "colab": {
          "base_uri": "https://localhost:8080/",
          "height": 295
        },
        "id": "3AINdL8qSq5Q",
        "outputId": "8241aa4d-ab9f-46ba-869e-cd774fc853ee"
      },
      "source": [
        "# Plot epochs and losses\n",
        "plt.plot(range(100),losses)\n",
        "\n",
        "# Add labels to x axis and y axis\n",
        "plt.ylabel('loss')\n",
        "plt.xlabel('epoch')\n",
        "\n",
        "# Add title to the graph\n",
        "plt.title('Training')\n",
        "\n",
        "# Show the plot\n",
        "# The curve is decreasing in each epoch, which is what we need\n",
        "# After several epochs, we can see that the curve is flattened.\n",
        "# This means the algorithm has converged and hence there are no significant updates\n",
        "# or changes in the weights or biases.\n",
        "plt.show()"
      ],
      "execution_count": 53,
      "outputs": [
        {
          "output_type": "display_data",
          "data": {
            "image/png": "[encoded data removed]",
            "text/plain": [
              "<Figure size 432x288 with 1 Axes>"
            ]
          },
          "metadata": {
            "needs_background": "light"
          }
        }
      ]
    },
    {
      "cell_type": "markdown",
      "metadata": {
        "id": "vA3vdL4ETqzM"
      },
      "source": [
        "# **Real Vs Predicted Targets**"
      ]
    },
    {
      "cell_type": "code",
      "metadata": {
        "colab": {
          "base_uri": "https://localhost:8080/",
          "height": 279
        },
        "id": "RmytUeZST5sT",
        "outputId": "bb73adae-64ce-48c2-d7eb-2e9224499573"
      },
      "source": [
        "# We print the real and predicted targets in order to see if they have a linear relationship.\n",
        "# There is almost a total match between the real targets and predicted targets.\n",
        "# This is a good signal of the success of our machine learning model.\n",
        "plt.plot(outputs,targets, 'bo')\n",
        "plt.xlabel('Predicted')\n",
        "plt.ylabel('Real')\n",
        "plt.show()"
      ],
      "execution_count": 57,
      "outputs": [
        {
          "output_type": "display_data",
          "data": {
            "image/png": "[encoded data removed]",
            "text/plain": [
              "<Figure size 432x288 with 1 Axes>"
            ]
          },
          "metadata": {
            "needs_background": "light"
          }
        }
      ]
    },
    {
      "cell_type": "code",
      "metadata": {
        "colab": {
          "base_uri": "https://localhost:8080/"
        },
        "id": "3B5Jfl_2UOdP",
        "outputId": "75303673-eade-4a6e-f18b-29e3ff91c52c"
      },
      "source": [
        "# We print the weights and the biases, so we can see if they have converged to what we wanted.\n",
        "# We know that the real weight is 13 and the bias is 2\n",
        "print (weights, biases)"
      ],
      "execution_count": 58,
      "outputs": [
        {
          "output_type": "stream",
          "name": "stdout",
          "text": [
            "[[13.09844702]] [1.73587336]\n"
          ]
        }
      ]
    }
  ]
}