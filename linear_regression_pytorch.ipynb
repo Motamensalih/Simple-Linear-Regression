{
  "nbformat": 4,
  "nbformat_minor": 0,
  "metadata": {
    "colab": {
      "name": "linear_regression_pytorch.ipynb",
      "provenance": [],
      "collapsed_sections": []
    },
    "kernelspec": {
      "name": "python3",
      "display_name": "Python 3"
    },
    "language_info": {
      "name": "python"
    },
    "accelerator": "GPU"
  },
  "cells": [
    {
      "cell_type": "markdown",
      "metadata": {
        "id": "GaEqDDZZnTLx"
      },
      "source": [
        "# **Import Modules**"
      ]
    },
    {
      "cell_type": "code",
      "metadata": {
        "id": "7P2wV2c44Aqn"
      },
      "source": [
        "# Numpy is needed for data generation\n",
        "import numpy as np\n",
        "# Pytorch is needed for model build\n",
        "import torch"
      ],
      "execution_count": 75,
      "outputs": []
    },
    {
      "cell_type": "markdown",
      "metadata": {
        "id": "e9V8xG4lpehl"
      },
      "source": [
        "# **Data Generation**"
      ]
    },
    {
      "cell_type": "code",
      "metadata": {
        "id": "8531n_MMphKw"
      },
      "source": [
        "# We use this line to make the code reproducible (to get the same results when running)\n",
        "np.random.seed(42)\n",
        "# First, we should declare a variable containing the size of the training set we want to generate\n",
        "observations = 1000\n",
        "\n",
        "# Let us assume we have the following relationship\n",
        "# y = 13x + 2\n",
        "# y is the output and x is the input or feature\n",
        "# We generate the feature randomly, drawing from an uniform distribution. There are 3 arguments of this method (low, high, size).\n",
        "# The size of x is observations by 1. In this case: 1000 x 1.\n",
        "x = np.random.uniform(low=-10, high=10, size=(observations,1))\n",
        "\n",
        "# We add a small noise to our function for more randomness\n",
        "noise = np.random.uniform(-1, 1, (observations,1))\n",
        "\n",
        "# Produce the targets according to the f(x) = 13x + 2 + noise definition.\n",
        "# This is a simple linear relationship with one weight and bias.\n",
        "# In this way, we are basically saying: the weight is 13 and the bias is 2.\n",
        "targets = 13*x + 2 + noise"
      ],
      "execution_count": 76,
      "outputs": []
    },
    {
      "cell_type": "markdown",
      "metadata": {
        "id": "cB20649NruVp"
      },
      "source": [
        "# **Data Preparation**"
      ]
    },
    {
      "cell_type": "code",
      "metadata": {
        "colab": {
          "base_uri": "https://localhost:8080/"
        },
        "id": "TBKYWBrqrG91",
        "outputId": "2770771b-df4c-4c32-d758-2a6475cbfeca"
      },
      "source": [
        "# TensorDataset is needed to prepare the training data in form of tensors\n",
        "from torch.utils.data import TensorDataset\n",
        "\n",
        "# To run the model on either the CPU or GPU (if available)\n",
        "device = 'cuda' if torch.cuda.is_available() else 'cpu'\n",
        "\n",
        "# Since torch deals with tensors, we convert the numpy arrays into torch tensors\n",
        "x_tensor = torch.from_numpy(x).float()\n",
        "y_tensor = torch.from_numpy(targets).float()\n",
        "\n",
        "# Combine the feature tensor and target tensor into torch dataset\n",
        "train_data = TensorDataset(x_tensor , y_tensor)\n",
        "train_data[1]"
      ],
      "execution_count": 77,
      "outputs": [
        {
          "output_type": "execute_result",
          "data": {
            "text/plain": [
              "(tensor([9.0143]), tensor([119.2695]))"
            ]
          },
          "metadata": {},
          "execution_count": 77
        }
      ]
    },
    {
      "cell_type": "markdown",
      "metadata": {
        "id": "ggvdFqpiszZb"
      },
      "source": [
        "# **DataLoader**"
      ]
    },
    {
      "cell_type": "code",
      "metadata": {
        "id": "9NlJeQ5WtOGO"
      },
      "source": [
        "# DataLoader is needed for data batching\n",
        "from torch.utils.data import DataLoader\n",
        "\n",
        "# Training dataset is converted into batches of size 16 samples each.\n",
        "# Shuffling is enabled for randomizing the data\n",
        "train_loader = DataLoader(train_data , batch_size = 16 , shuffle = True)"
      ],
      "execution_count": 78,
      "outputs": []
    },
    {
      "cell_type": "code",
      "metadata": {
        "id": "0e5OznlMtprr"
      },
      "source": [
        "# You can retrieve the batches\n",
        "#next(iter(train_loader))"
      ],
      "execution_count": 79,
      "outputs": []
    },
    {
      "cell_type": "markdown",
      "metadata": {
        "id": "ccdgizIjuUCq"
      },
      "source": [
        "# **Model Build**"
      ]
    },
    {
      "cell_type": "code",
      "metadata": {
        "colab": {
          "base_uri": "https://localhost:8080/"
        },
        "id": "r6Gr7SpluT2L",
        "outputId": "95bb5b15-a338-4e29-fe15-f65780995226"
      },
      "source": [
        "# Initialize the seed to make the code reproducible\n",
        "torch.manual_seed(42)\n",
        "\n",
        "# This function is for model's parameters initialization\n",
        "def init_weights(m):\n",
        "    if isinstance(m, torch.nn.Linear):\n",
        "        torch.nn.init.uniform_(m.weight , a = -0.1 , b = 0.1)\n",
        "        torch.nn.init.uniform_(m.bias , a = -0.1 , b = 0.1)\n",
        "\n",
        "# Define the model using Sequential class\n",
        "# It contains only a single linear layer with one input and one output\n",
        "model = torch.nn.Sequential(torch.nn.Linear(1 , 1)).to(device)\n",
        "\n",
        "# Initialize the model's parameters using the defined function from above\n",
        "model.apply(init_weights)\n",
        "\n",
        "# Print the model's parameters\n",
        "print(model.state_dict())"
      ],
      "execution_count": 80,
      "outputs": [
        {
          "output_type": "stream",
          "name": "stdout",
          "text": [
            "OrderedDict([('0.weight', tensor([[0.0226]], device='cuda:0')), ('0.bias', tensor([0.0975], device='cuda:0'))])\n"
          ]
        }
      ]
    },
    {
      "cell_type": "markdown",
      "metadata": {
        "id": "_fdIP-oFvtpF"
      },
      "source": [
        "# **Model Compile**"
      ]
    },
    {
      "cell_type": "code",
      "metadata": {
        "id": "laT0GJcIvr0y"
      },
      "source": [
        "# Specify the learning rate\n",
        "lr = 0.02\n",
        "\n",
        "# The loss function is the mean squared error\n",
        "loss_fn = torch.nn.MSELoss(reduction = 'mean')\n",
        "\n",
        "# The optimizer is the stochastic gradient descent with a certain learning rate\n",
        "optimizer = torch.optim.SGD(model.parameters() , lr = lr)"
      ],
      "execution_count": 81,
      "outputs": []
    },
    {
      "cell_type": "markdown",
      "metadata": {
        "id": "xwNjh5bNuHEf"
      },
      "source": [
        "# **Training Process**"
      ]
    },
    {
      "cell_type": "code",
      "metadata": {
        "colab": {
          "base_uri": "https://localhost:8080/"
        },
        "id": "FnigGigVuG1O",
        "outputId": "f55f384e-0c94-486b-f626-f7b134bbe4c2"
      },
      "source": [
        "# A function for training the model\n",
        "# It is a function of a function (How fancy)\n",
        "def make_train_step(model , optimizer , loss_fn):\n",
        "  def train_step(x , y):\n",
        "    # Set the model to training mode\n",
        "    model.train()\n",
        "    # Feedforward the model with the data (features) to obtain the predictions\n",
        "    yhat = model(x)\n",
        "    # Calculate the loss based on the predicted and actual targets\n",
        "    loss = loss_fn(y , yhat)\n",
        "    # Perform the backpropagation to find the gradients\n",
        "    loss.backward()\n",
        "    # Update the parameters with the calculated gradients\n",
        "    optimizer.step()\n",
        "    # Set the gradients to zero to prevent accumulation\n",
        "    optimizer.zero_grad()\n",
        "    return loss.item()\n",
        "  return train_step\n",
        "\n",
        "# Call the training function\n",
        "train_step = make_train_step(model , optimizer , loss_fn)\n",
        "\n",
        "# To store the loss of each epoch\n",
        "losses = []\n",
        "\n",
        "# Set the epochs to 100\n",
        "epochs = 100\n",
        "\n",
        "# Run the training function in each epoch on the batches of the data\n",
        "# This is why we have two for loops\n",
        "# Outer loop for epochs\n",
        "# Inner loop for iterating through the training data batches\n",
        "for epoch in range(epochs):\n",
        "  # To accumulate the losses of all batches within a single epoch\n",
        "  batch_loss = 0\n",
        "  for x_batch , y_batch in train_loader:\n",
        "    x_batch = x_batch.to(device)\n",
        "    y_batch = y_batch.to(device)\n",
        "    loss = train_step(x_batch , y_batch)\n",
        "    batch_loss = batch_loss + loss\n",
        "  # 63 is not a magic number. It is the number of batches in the training set\n",
        "  # we have 1000 samples and the batch size is 16 (defined in the DataLoader)\n",
        "  # 1000/16 = 63\n",
        "  epoch_loss = batch_loss / 63\n",
        "  losses.append(epoch_loss)\n",
        "\n",
        "# Print the parameters after the training is done\n",
        "print(model.state_dict())"
      ],
      "execution_count": 82,
      "outputs": [
        {
          "output_type": "stream",
          "name": "stdout",
          "text": [
            "OrderedDict([('0.weight', tensor([[13.0287]], device='cuda:0')), ('0.bias', tensor([2.0096], device='cuda:0'))])\n"
          ]
        }
      ]
    },
    {
      "cell_type": "markdown",
      "metadata": {
        "id": "kAGHTMOH2XcG"
      },
      "source": [
        "# **Training Loss**"
      ]
    },
    {
      "cell_type": "code",
      "metadata": {
        "colab": {
          "base_uri": "https://localhost:8080/",
          "height": 295
        },
        "id": "NVAZYSsE2Zue",
        "outputId": "04070ba8-b49d-43a6-dc95-c8662c833d69"
      },
      "source": [
        "# Matplotlib is needed for visualization\n",
        "import matplotlib.pyplot as plt\n",
        "\n",
        "# Plot epochs and losses\n",
        "plt.plot(range(100),losses)\n",
        "\n",
        "# Add labels to x axis and y axis\n",
        "plt.ylabel('loss')\n",
        "plt.xlabel('epoch')\n",
        "\n",
        "# Add title to the graph\n",
        "plt.title('Training')\n",
        "\n",
        "# Show the plot\n",
        "# The curve is decreasing in each epoch, which is what we need\n",
        "# After several epochs, we can see that the curve is flattened.\n",
        "# This means the algorithm has converged and hence there are no significant updates\n",
        "# or changes in the weights or biases.\n",
        "plt.show()"
      ],
      "execution_count": 83,
      "outputs": [
        {
          "output_type": "display_data",
          "data": {
            "image/png": "[encoded data removed]",
            "text/plain": [
              "<Figure size 432x288 with 1 Axes>"
            ]
          },
          "metadata": {
            "needs_background": "light"
          }
        }
      ]
    },
    {
      "cell_type": "markdown",
      "metadata": {
        "id": "MzBbA6W96VUO"
      },
      "source": [
        "# **Predicted Vs Real Targets**"
      ]
    },
    {
      "cell_type": "code",
      "metadata": {
        "colab": {
          "base_uri": "https://localhost:8080/",
          "height": 279
        },
        "id": "RwjvKJiA6gMC",
        "outputId": "11b0cc1b-8468-4250-a01b-9a5355e54354"
      },
      "source": [
        "# We print the real and predicted targets in order to see if they have a linear relationship.\n",
        "# There is almost a total match between the real targets and predicted targets.\n",
        "# This is a good signal of the success of our machine learning model.\n",
        "\n",
        "# Set the model to prediction mode\n",
        "model.eval()\n",
        "\n",
        "# Move the training data to GPU because the model is on the GPU as well\n",
        "x_tensor = x_tensor.to(device)\n",
        "\n",
        "# Calculate the predicted targets\n",
        "# Move them back to the CPU and detach to convert them to numpy array\n",
        "outputs = model(x_tensor).cpu().detach().numpy()\n",
        "\n",
        "# Plot the real and predicted\n",
        "plt.plot(outputs,targets, 'bo')\n",
        "\n",
        "# Label the x axis and y axis\n",
        "plt.xlabel('Predicted')\n",
        "plt.ylabel('Real')\n",
        "\n",
        "# Display the plot\n",
        "plt.show()"
      ],
      "execution_count": 95,
      "outputs": [
        {
          "output_type": "display_data",
          "data": {
            "image/png": "[encoded data removed]",
            "text/plain": [
              "<Figure size 432x288 with 1 Axes>"
            ]
          },
          "metadata": {
            "needs_background": "light"
          }
        }
      ]
    }
  ]
}